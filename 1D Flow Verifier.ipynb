{
 "cells": [
  {
   "cell_type": "markdown",
   "id": "9a2024e8",
   "metadata": {},
   "source": [
    "**1D Flow Verifier**\n",
    "\n",
    "The three code block below pull files from a Github repository onto your machine. To run the cells, select each cell and press the run button at the top of the notebook.\n",
    "\n",
    "The cell below this pulls the Flow function into the notebook, which verifies if a flow is optimal."
   ]
  },
  {
   "cell_type": "code",
   "execution_count": 1,
   "id": "f9eba4ad",
   "metadata": {},
   "outputs": [],
   "source": [
    "import requests\n",
    "url = 'https://raw.github.com/MichaelHyder/ds490/main/Flow.py'\n",
    "response = requests.get(url)\n",
    "\n",
    "if response.status_code == 200:\n",
    "    with open('Flow.py', 'w') as f:\n",
    "        f.write(response.text)\n",
    "else:\n",
    "    print('Failed to fetch the file:', response.status_code)"
   ]
  },
  {
   "cell_type": "markdown",
   "id": "aeed843c",
   "metadata": {},
   "source": [
    "The cell below this pulls the Matrix function into the notebook, which creates a directed adjacency matrix based off of user inputs."
   ]
  },
  {
   "cell_type": "code",
   "execution_count": 2,
   "id": "32ee06d7",
   "metadata": {},
   "outputs": [],
   "source": [
    "url = 'https://raw.github.com/MichaelHyder/ds490/main/Matrix.py'\n",
    "response = requests.get(url)\n",
    "\n",
    "if response.status_code == 200:\n",
    "    with open('Matrix.py', 'w') as f:\n",
    "        f.write(response.text)\n",
    "else:\n",
    "    print('Failed to fetch the file:', response.status_code)"
   ]
  },
  {
   "cell_type": "markdown",
   "id": "cc64eeb6",
   "metadata": {},
   "source": [
    "The cell below this pulls the Verify function into the notebook, which runs the code to gather the type space and distribution from the user and feed it to the checker."
   ]
  },
  {
   "cell_type": "code",
   "execution_count": 3,
   "id": "2e20ed3a",
   "metadata": {},
   "outputs": [],
   "source": [
    "url = 'https://raw.github.com/MichaelHyder/ds490/main/Verify.py'\n",
    "response = requests.get(url)\n",
    "\n",
    "if response.status_code == 200:\n",
    "    with open('Verify.py', 'w') as f:\n",
    "        f.write(response.text)\n",
    "else:\n",
    "    print('Failed to fetch the file:', response.status_code)"
   ]
  },
  {
   "cell_type": "markdown",
   "id": "06f3382c",
   "metadata": {},
   "source": [
    "The cell below imports all the files that have been brought to your machine into the notebook itself. Run the cell below to import them."
   ]
  },
  {
   "cell_type": "code",
   "execution_count": 4,
   "id": "cadd0d15",
   "metadata": {},
   "outputs": [],
   "source": [
    "import Flow\n",
    "import Matrix\n",
    "import Verify"
   ]
  },
  {
   "cell_type": "markdown",
   "id": "6f73f17d",
   "metadata": {},
   "source": [
    "The cell below calls the Verify function which will interact with the user. To start the process, run the cell below. Then, follow the instructions as prompted! \n",
    "\n",
    "After the process is complete, if you wish to run it again, simply run the cell again. If you wish to stop the process at any time, press the square next to the run button to stop the kernel. Make sure the kernel is stopped before running it again, as if it is still running, the new processes will not begin. If this occurs, just stop the kernel and run the cell again to fix it!"
   ]
  },
  {
   "cell_type": "code",
   "execution_count": 7,
   "id": "c570c840",
   "metadata": {},
   "outputs": [
    {
     "name": "stdout",
     "output_type": "stream",
     "text": [
      "Enter your type space separated by commas. Do NOT include the source (e.g., 1,2,3,4,5): 1,2,3\n",
      "Enter your distribution separated by commas (e.g., 0.2,1/5,0.2,1/10,0.3): 1/3,1/3,1/3\n",
      "Initial matrix:\n",
      "0 0 0 0\n",
      "0 0 0 0\n",
      "0 0 0 0\n",
      "0 0 0 0\n",
      "Enter the row index to replace (or -1 to exit): 0\n",
      "Enter the column index to replace: 1\n",
      "Enter the new value (e.g 0.5 or 1/2 or 2 * 1/4): 2/3\n",
      "0.6667\n",
      "Updated matrix:\n",
      "0 0.6667 0 0\n",
      "0 0 0 0\n",
      "0 0 0 0\n",
      "0 0 0 0\n",
      "Enter the row index to replace (or -1 to exit): 0\n",
      "Enter the column index to replace: 2\n",
      "Enter the new value (e.g 0.5 or 1/2 or 2 * 1/4): 1/6\n",
      "0.1667\n",
      "Updated matrix:\n",
      "0 0.6667 0.1667 0\n",
      "0 0 0 0\n",
      "0 0 0 0\n",
      "0 0 0 0\n",
      "Enter the row index to replace (or -1 to exit): 1\n",
      "Enter the column index to replace: 2\n",
      "Enter the new value (e.g 0.5 or 1/2 or 2 * 1/4): 1/3\n",
      "0.3333\n",
      "Updated matrix:\n",
      "0 0.6667 0.1667 0\n",
      "0 0 0.3333 0\n",
      "0 0 0 0\n",
      "0 0 0 0\n",
      "Enter the row index to replace (or -1 to exit): -1\n",
      "They are equal! This is optimal! The value is 0.6667\n"
     ]
    }
   ],
   "source": [
    "Verify.Verify()"
   ]
  },
  {
   "cell_type": "code",
   "execution_count": null,
   "id": "8af39fb0",
   "metadata": {},
   "outputs": [],
   "source": []
  }
 ],
 "metadata": {
  "kernelspec": {
   "display_name": "Python 3 (ipykernel)",
   "language": "python",
   "name": "python3"
  },
  "language_info": {
   "codemirror_mode": {
    "name": "ipython",
    "version": 3
   },
   "file_extension": ".py",
   "mimetype": "text/x-python",
   "name": "python",
   "nbconvert_exporter": "python",
   "pygments_lexer": "ipython3",
   "version": "3.11.1"
  }
 },
 "nbformat": 4,
 "nbformat_minor": 5
}
