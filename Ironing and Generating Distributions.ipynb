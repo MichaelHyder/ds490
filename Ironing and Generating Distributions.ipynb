{
 "cells": [
  {
   "cell_type": "markdown",
   "id": "7434ac01",
   "metadata": {},
   "source": [
    "**Ironing and Generating Distributions**\n",
    "\n",
    "The four code block below pull files from a Github repository onto your machine. To run the cells, select each cell and press the run button at the top of the notebook.\n",
    "\n",
    "The cell below this pulls the main function into the notebook, which runs the code and interacts with the user."
   ]
  },
  {
   "cell_type": "code",
   "execution_count": 40,
   "id": "71f6b0f0",
   "metadata": {},
   "outputs": [],
   "source": [
    "import requests\n",
    "url = 'https://raw.github.com/MichaelHyder/ds490/main/main.py'\n",
    "response = requests.get(url)\n",
    "\n",
    "if response.status_code == 200:\n",
    "    with open('main.py', 'w') as f:\n",
    "        f.write(response.text)\n",
    "else:\n",
    "    print('Failed to fetch the file:', response.status_code)"
   ]
  },
  {
   "cell_type": "markdown",
   "id": "72b75322",
   "metadata": {},
   "source": [
    "The cell below pulls the Generate_Distribution function which generates a distribution based on the number of values in the type space. \n",
    "\n",
    "(Note: this works best for type spaces of size 3, 4, and 5. Spaces larger than 5 will most likely not return a result. This also only generates distributions that are monotone increasing up to the last element, which then only needs a single ironing of the last 2 elements to become monotone increasing.)"
   ]
  },
  {
   "cell_type": "code",
   "execution_count": 41,
   "id": "6ab0520e",
   "metadata": {},
   "outputs": [],
   "source": [
    "url = 'https://raw.github.com/MichaelHyder/ds490/main/Generate_Distribution.py'\n",
    "response = requests.get(url)\n",
    "\n",
    "if response.status_code == 200:\n",
    "    with open('Generate_Distribution.py', 'w') as f:\n",
    "        f.write(response.text)\n",
    "else:\n",
    "    print('Failed to fetch the file:', response.status_code)"
   ]
  },
  {
   "cell_type": "markdown",
   "id": "1352b2e4",
   "metadata": {},
   "source": [
    "The cell below pulls the Ironing function which irons virtual values. \n",
    "\n",
    "(Note: unlike the Generate_Distribution function, this can iron a type space of virtually any size greater than 1. However, you must provide the distribution as well as the type space yourself.)"
   ]
  },
  {
   "cell_type": "code",
   "execution_count": 42,
   "id": "b5e0dc89",
   "metadata": {},
   "outputs": [],
   "source": [
    "url = 'https://raw.github.com/MichaelHyder/ds490/main/Ironing.py'\n",
    "response = requests.get(url)\n",
    "\n",
    "if response.status_code == 200:\n",
    "    with open('Ironing.py', 'w') as f:\n",
    "        f.write(response.text)\n",
    "else:\n",
    "    print('Failed to fetch the file:', response.status_code)"
   ]
  },
  {
   "cell_type": "markdown",
   "id": "95e2f924",
   "metadata": {},
   "source": [
    "The cell below pulls the Virtual_Values function which converts a type space into its virtual values. \n",
    "\n",
    "(Note: similarly to the ironing function, this will work on a type space of virtually any size. However, you must provide the distribution as well as the type space yourself.)"
   ]
  },
  {
   "cell_type": "code",
   "execution_count": 43,
   "id": "8b607ef9",
   "metadata": {},
   "outputs": [],
   "source": [
    "url = 'https://raw.github.com/MichaelHyder/ds490/main/Virtual_Values.py'\n",
    "response = requests.get(url)\n",
    "\n",
    "if response.status_code == 200:\n",
    "    with open('Virtual_Values.py', 'w') as f:\n",
    "        f.write(response.text)\n",
    "else:\n",
    "    print('Failed to fetch the file:', response.status_code)"
   ]
  },
  {
   "cell_type": "markdown",
   "id": "6e8d7dda",
   "metadata": {},
   "source": [
    "The cell below imports all the files that have been brought to your machine into the notebook itself. Run the cell below to import them."
   ]
  },
  {
   "cell_type": "code",
   "execution_count": 44,
   "id": "791392df",
   "metadata": {},
   "outputs": [],
   "source": [
    "import main\n",
    "import Generate_Distribution\n",
    "import Ironing\n",
    "import Virtual_Values"
   ]
  },
  {
   "cell_type": "markdown",
   "id": "ce5e3cfb",
   "metadata": {},
   "source": [
    "The cell below calls the main function which will interact with the user. To start the process, run the cell below. Then, follow the instructions as prompted! \n",
    "\n",
    "After the process is complete, if you wish to run it again, simply run the cell again. If you wish to stop the process at any time, press the square next to the run button to stop the kernel. Make sure the kernel is stopped before running it again, as if it is still running, the new processes will not begin. If this occurs, just stop the kernel and run the cell again to fix it!"
   ]
  },
  {
   "cell_type": "code",
   "execution_count": 57,
   "id": "d3b12327",
   "metadata": {},
   "outputs": [
    {
     "name": "stdout",
     "output_type": "stream",
     "text": [
      "Enter your type space separated by commas (e.g., 1,2,3,4,5): 1,2,3\n",
      "Do you have a distribution to enter? If so, type yes, if not, type no: yes\n",
      "Enter your distribution separated by commas (e.g., 0.2,0.2,0.2,0.2,0.2): 0.8,0.1,0.1\n",
      "Do you want to see the virtual values of this distribution? If so, type yes, if not, type no: yes\n",
      "Here are your virtual values!  [1.25 2.   1.  ]\n",
      "Do you need this ironed? If so, type yes, if not, type no: yes\n"
     ]
    },
    {
     "data": {
      "text/plain": [
       "('Here are your ironed values!', array([1.25, 1.5 , 1.5 ]))"
      ]
     },
     "execution_count": 57,
     "metadata": {},
     "output_type": "execute_result"
    }
   ],
   "source": [
    "main.main()"
   ]
  }
 ],
 "metadata": {
  "kernelspec": {
   "display_name": "Python 3 (ipykernel)",
   "language": "python",
   "name": "python3"
  },
  "language_info": {
   "codemirror_mode": {
    "name": "ipython",
    "version": 3
   },
   "file_extension": ".py",
   "mimetype": "text/x-python",
   "name": "python",
   "nbconvert_exporter": "python",
   "pygments_lexer": "ipython3",
   "version": "3.11.1"
  }
 },
 "nbformat": 4,
 "nbformat_minor": 5
}
